{
 "cells": [
  {
   "cell_type": "code",
   "execution_count": 1,
   "id": "60e12f7f-2197-4e44-aaad-c82ecf0a44d1",
   "metadata": {},
   "outputs": [],
   "source": [
    "import numpy as np\n",
    "import matplotlib.pyplot as plt"
   ]
  },
  {
   "cell_type": "code",
   "execution_count": 2,
   "id": "e33e9999-a624-4e81-9d65-2c1cda0f7aed",
   "metadata": {},
   "outputs": [],
   "source": [
    "def myFunct(x):\n",
    "    return(x**2 - 2) \n",
    "\n",
    "def myPerf(x):\n",
    "    return(1/abs(myFunct(x)))\n",
    "\n",
    "def generate(a,b):\n",
    "    return(a + (b-a) * np.random.rand(1)) "
   ]
  },
  {
   "cell_type": "code",
   "execution_count": 4,
   "id": "ca82b506-879d-4d60-957f-17c666709c4b",
   "metadata": {},
   "outputs": [],
   "source": [
    "nIndiv = 100\n",
    "a = 0\n",
    "b = 3\n",
    "step = 10**(-4)\n",
    "N = (b - a) / step\n",
    "\n",
    "nGenerations = int(N/nIndiv)\n",
    "nGenerations = int(nGenerations/10)\n",
    "\n",
    "pop = a + (b - a) * np.random.rand(nIndiv)"
   ]
  },
  {
   "cell_type": "code",
   "execution_count": 5,
   "id": "dd6d6a06-384d-4dee-af30-56c7dca414a2",
   "metadata": {},
   "outputs": [],
   "source": [
    "nSel = 10\n",
    "r = .01 # +/- 10% for mutation"
   ]
  },
  {
   "cell_type": "code",
   "execution_count": 7,
   "id": "4f8d8ecd-2657-4369-97a7-7ed74546ecee",
   "metadata": {},
   "outputs": [],
   "source": [
    "for indexGen in range(nGenerations):\n",
    "    perfFunct = myPerf(pop) # fitness function\n",
    "    order = np.argsort(perfFunct)[::-1] # sort decreasingly\n",
    "    parents = pop[order[:nSel]] # selecting parents\n",
    "\n",
    "    pop = np.zeros(nIndiv)\n",
    "    pop[:nSel] = parents\n",
    "    perf = myPerf(parents)\n",
    "\n",
    "    cs = np.cumsum(perf)\n",
    "    cs = cs / cs[-1]\n",
    "\n",
    "    for indexNewborn in range(nSel, nIndiv):\n",
    "        select = np.random.rand()\n",
    "        parentIndex = np.argmax((cs > select))\n",
    "        pop[indexNewborn] = pop[parentIndex]*(1 + 2 * r * (np.random.random()-.5))"
   ]
  },
  {
   "cell_type": "code",
   "execution_count": 8,
   "id": "60242a79-4eaa-4323-a1e4-ac996805f4cd",
   "metadata": {},
   "outputs": [
    {
     "name": "stdout",
     "output_type": "stream",
     "text": [
      "1.4142135623730951\n"
     ]
    }
   ],
   "source": [
    "print(2**.5)"
   ]
  },
  {
   "cell_type": "code",
   "execution_count": null,
   "id": "2aa2d085-ea6c-4c08-a883-4b11e8258784",
   "metadata": {},
   "outputs": [],
   "source": []
  }
 ],
 "metadata": {
  "kernelspec": {
   "display_name": "myNN",
   "language": "python",
   "name": "mynn"
  },
  "language_info": {
   "codemirror_mode": {
    "name": "ipython",
    "version": 3
   },
   "file_extension": ".py",
   "mimetype": "text/x-python",
   "name": "python",
   "nbconvert_exporter": "python",
   "pygments_lexer": "ipython3",
   "version": "3.12.2"
  }
 },
 "nbformat": 4,
 "nbformat_minor": 5
}
