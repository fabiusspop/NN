{
 "cells": [
  {
   "cell_type": "code",
   "execution_count": 2,
   "id": "02b917b1-9b92-4de3-9b8e-68824385e189",
   "metadata": {},
   "outputs": [],
   "source": [
    "import numpy as np"
   ]
  },
  {
   "cell_type": "code",
   "execution_count": 3,
   "id": "35bcb592-ddf8-4de6-9738-901c49148402",
   "metadata": {},
   "outputs": [],
   "source": [
    "x = np.array([[1,0], [2,0], [3,0], [0,1], [0,2]])\n",
    "\n",
    "t = np.array([[0], [0], [1], [0], [1]])\n",
    "\n",
    "nExamples = np.size(x, 0)\n",
    "\n",
    "# adding a bias term \n",
    "x = np.concatenate((x, np.ones([nExamples, 1])), axis = 1)\n"
   ]
  },
  {
   "cell_type": "code",
   "execution_count": 5,
   "id": "816e6411-526f-4ffe-82cc-748db5e0b4ce",
   "metadata": {},
   "outputs": [],
   "source": [
    "nInputs = np.size(x, 1)"
   ]
  },
  {
   "cell_type": "code",
   "execution_count": 7,
   "id": "975cce7b-5659-478e-bad8-d986e6bdf5a2",
   "metadata": {},
   "outputs": [],
   "source": [
    "w = np.array([[1], [1], [2]])"
   ]
  },
  {
   "cell_type": "code",
   "execution_count": 8,
   "id": "1dbf5687-c987-444a-b4fc-c315b06e9c40",
   "metadata": {},
   "outputs": [],
   "source": [
    "def netOut(w,x):\n",
    "    n = np.dot(x, w)\n",
    "    y = n >= 0 \n",
    "    return y"
   ]
  },
  {
   "cell_type": "code",
   "execution_count": 10,
   "id": "25348638-5f2d-48f0-9b3f-69a8a9a0a101",
   "metadata": {},
   "outputs": [],
   "source": [
    "eG = 1\n",
    "\n",
    "while eG > 0:\n",
    "    eG = 0\n",
    "    y = netOut(w, x)\n",
    "    e = t - y \n",
    "    eG = sum(abs(e))\n",
    "    dw = e * x\n",
    "    dw = np.sum(dw, axis = 0)\n",
    "    dw = np.reshape(dw, [nInputs, 1])\n",
    "    w = w + dw"
   ]
  },
  {
   "cell_type": "code",
   "execution_count": 12,
   "id": "efdad212-435a-49c1-8fab-08bb2957eee5",
   "metadata": {},
   "outputs": [
    {
     "name": "stdout",
     "output_type": "stream",
     "text": [
      "[[ 2.]\n",
      " [ 3.]\n",
      " [-6.]]\n",
      "[[False]\n",
      " [False]\n",
      " [ True]\n",
      " [False]\n",
      " [ True]]\n"
     ]
    }
   ],
   "source": [
    "print(w)\n",
    "print(netOut(w,x))"
   ]
  },
  {
   "cell_type": "code",
   "execution_count": 13,
   "id": "183d77e8-a5ee-4d50-9d5a-fe87eaed9041",
   "metadata": {},
   "outputs": [],
   "source": [
    "# using MLPClassifier\n",
    "from sklearn.neural_network import MLPClassifier\n"
   ]
  },
  {
   "cell_type": "code",
   "execution_count": 15,
   "id": "55ae5cd6-0787-49c9-b012-9757ff40134c",
   "metadata": {},
   "outputs": [
    {
     "name": "stdout",
     "output_type": "stream",
     "text": [
      "[0, 0, 1, 0, 1]\n",
      "[0 0 0 0 1]\n"
     ]
    }
   ],
   "source": [
    "X = [[1, 0], [2, 0], [3, 0], [0, 1], [0, 2]]\n",
    "T = [0, 0, 1, 0, 1]\n",
    "\n",
    "net = MLPClassifier(solver = 'lbfgs', hidden_layer_sizes=(2,2))\n",
    "\n",
    "net.fit(X,T)\n",
    "print(T)\n",
    "print(net.predict(X))"
   ]
  },
  {
   "cell_type": "code",
   "execution_count": null,
   "id": "b111ec8c-fbcc-4954-83aa-f4772f6cc223",
   "metadata": {},
   "outputs": [],
   "source": []
  }
 ],
 "metadata": {
  "kernelspec": {
   "display_name": "myNN",
   "language": "python",
   "name": "mynn"
  },
  "language_info": {
   "codemirror_mode": {
    "name": "ipython",
    "version": 3
   },
   "file_extension": ".py",
   "mimetype": "text/x-python",
   "name": "python",
   "nbconvert_exporter": "python",
   "pygments_lexer": "ipython3",
   "version": "3.12.2"
  }
 },
 "nbformat": 4,
 "nbformat_minor": 5
}
